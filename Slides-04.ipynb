{
 "cells": [
  {
   "cell_type": "markdown",
   "metadata": {
    "editable": true,
    "slideshow": {
     "slide_type": "slide"
    },
    "tags": []
   },
   "source": [
    "# Trabajando con columnas"
   ]
  },
  {
   "cell_type": "markdown",
   "metadata": {
    "slideshow": {
     "slide_type": "slide"
    }
   },
   "source": [
    "Además de las funciones vistas anteriormente __Pandas__ tiene una serie de funciones para trabajar con columnas, tanto para analizar como para crear nuevas columnas."
   ]
  },
  {
   "cell_type": "markdown",
   "metadata": {
    "slideshow": {
     "slide_type": "slide"
    }
   },
   "source": [
    "Empezamos por cargar los datos que hemos estado utilizando."
   ]
  },
  {
   "cell_type": "code",
   "execution_count": 1,
   "metadata": {
    "slideshow": {
     "slide_type": "fragment"
    }
   },
   "outputs": [
    {
     "data": {
      "text/plain": [
       "16"
      ]
     },
     "execution_count": 1,
     "metadata": {},
     "output_type": "execute_result"
    }
   ],
   "source": [
    "import pandas as pd\n",
    "\n",
    "tipos = {'Numero':'int', 'Expediente':'str', 'Nombre':'str', 'Apellido':'str',\n",
    "         'Plan':'str', 'Tarea1':'float', 'Examen1':'float', 'Tarea2':'float',\n",
    "         'Examen2':'float', 'Tarea3':'float', 'Examen3':'float'}\n",
    "\n",
    "df = pd.read_csv('ListaAlumnos.csv', index_col='Expediente', dtype=tipos)\n",
    "len(df)"
   ]
  },
  {
   "cell_type": "markdown",
   "metadata": {
    "slideshow": {
     "slide_type": "slide"
    }
   },
   "source": [
    "Además, le indicaremos a __matplotlib__ (librería que __Pandas__ utiliza para hacer gráficas) que queremos ver las gráficas en este mismo _notebook_."
   ]
  },
  {
   "cell_type": "code",
   "execution_count": 2,
   "metadata": {
    "slideshow": {
     "slide_type": "fragment"
    }
   },
   "outputs": [],
   "source": [
    "%matplotlib inline"
   ]
  },
  {
   "cell_type": "markdown",
   "metadata": {
    "slideshow": {
     "slide_type": "slide"
    }
   },
   "source": [
    "### Análisis por columna\n",
    "\n",
    "El método `value_counts()` nos permite analizar la frecuencia de cada uno de los valores que tiene una columna"
   ]
  },
  {
   "cell_type": "code",
   "execution_count": 3,
   "metadata": {
    "slideshow": {
     "slide_type": "fragment"
    }
   },
   "outputs": [
    {
     "data": {
      "text/plain": [
       "100.0    8\n",
       "95.0     3\n",
       "90.0     2\n",
       "60.0     2\n",
       "97.5     1\n",
       "Name: Examen2, dtype: int64"
      ]
     },
     "execution_count": 3,
     "metadata": {},
     "output_type": "execute_result"
    }
   ],
   "source": [
    "df.Examen2.value_counts()"
   ]
  },
  {
   "cell_type": "markdown",
   "metadata": {
    "slideshow": {
     "slide_type": "slide"
    }
   },
   "source": [
    "Este método es similar a un histograma de frecuencias, que se puede hacer mediante el método `hist()`. "
   ]
  },
  {
   "cell_type": "code",
   "execution_count": 4,
   "metadata": {
    "slideshow": {
     "slide_type": "fragment"
    }
   },
   "outputs": [
    {
     "data": {
      "text/plain": [
       "<matplotlib.axes._subplots.AxesSubplot at 0x7ff474195cc0>"
      ]
     },
     "execution_count": 4,
     "metadata": {},
     "output_type": "execute_result"
    },
    {
     "data": {
      "image/png": "[encoded data removed]",
      "text/plain": [
       "<Figure size 432x288 with 1 Axes>"
      ]
     },
     "metadata": {
      "needs_background": "light"
     },
     "output_type": "display_data"
    }
   ],
   "source": [
    "df.Examen2.hist()"
   ]
  },
  {
   "cell_type": "markdown",
   "metadata": {
    "slideshow": {
     "slide_type": "fragment"
    }
   },
   "source": [
    "__Nota__ Los valores no coinciden porque el histograma trabaja con intervalos."
   ]
  },
  {
   "cell_type": "markdown",
   "metadata": {
    "slideshow": {
     "slide_type": "slide"
    }
   },
   "source": [
    "Si queremos conocer unicamente cuantos valores únicos hay, podemos utilizar el método `nunique()`."
   ]
  },
  {
   "cell_type": "code",
   "execution_count": 5,
   "metadata": {
    "slideshow": {
     "slide_type": "fragment"
    }
   },
   "outputs": [
    {
     "data": {
      "text/plain": [
       "5"
      ]
     },
     "execution_count": 5,
     "metadata": {},
     "output_type": "execute_result"
    }
   ],
   "source": [
    "df.Examen2.nunique()"
   ]
  },
  {
   "cell_type": "markdown",
   "metadata": {
    "slideshow": {
     "slide_type": "slide"
    }
   },
   "source": [
    "El método`describe()` fue mencionado anteriormente."
   ]
  },
  {
   "cell_type": "code",
   "execution_count": 6,
   "metadata": {
    "slideshow": {
     "slide_type": "fragment"
    }
   },
   "outputs": [
    {
     "data": {
      "text/html": [
       "<div>\n",
       "<style scoped>\n",
       "    .dataframe tbody tr th:only-of-type {\n",
       "        vertical-align: middle;\n",
       "    }\n",
       "\n",
       "    .dataframe tbody tr th {\n",
       "        vertical-align: top;\n",
       "    }\n",
       "\n",
       "    .dataframe thead th {\n",
       "        text-align: right;\n",
       "    }\n",
       "</style>\n",
       "<table border=\"1\" class=\"dataframe\">\n",
       "  <thead>\n",
       "    <tr style=\"text-align: right;\">\n",
       "      <th></th>\n",
       "      <th>Numero</th>\n",
       "      <th>Tarea1</th>\n",
       "      <th>Examen1</th>\n",
       "      <th>Tarea2</th>\n",
       "      <th>Examen2</th>\n",
       "      <th>Tarea3</th>\n",
       "      <th>Examen3</th>\n",
       "    </tr>\n",
       "  </thead>\n",
       "  <tbody>\n",
       "    <tr>\n",
       "      <th>count</th>\n",
       "      <td>16.000000</td>\n",
       "      <td>16.000000</td>\n",
       "      <td>16.000000</td>\n",
       "      <td>16.000000</td>\n",
       "      <td>16.000000</td>\n",
       "      <td>16.000000</td>\n",
       "      <td>16.000000</td>\n",
       "    </tr>\n",
       "    <tr>\n",
       "      <th>mean</th>\n",
       "      <td>8.500000</td>\n",
       "      <td>83.375000</td>\n",
       "      <td>68.375000</td>\n",
       "      <td>87.562500</td>\n",
       "      <td>92.656250</td>\n",
       "      <td>90.625000</td>\n",
       "      <td>47.000000</td>\n",
       "    </tr>\n",
       "    <tr>\n",
       "      <th>std</th>\n",
       "      <td>4.760952</td>\n",
       "      <td>24.374509</td>\n",
       "      <td>20.710303</td>\n",
       "      <td>20.607341</td>\n",
       "      <td>13.212013</td>\n",
       "      <td>20.155644</td>\n",
       "      <td>33.348663</td>\n",
       "    </tr>\n",
       "    <tr>\n",
       "      <th>min</th>\n",
       "      <td>1.000000</td>\n",
       "      <td>33.000000</td>\n",
       "      <td>23.000000</td>\n",
       "      <td>33.000000</td>\n",
       "      <td>60.000000</td>\n",
       "      <td>50.000000</td>\n",
       "      <td>0.000000</td>\n",
       "    </tr>\n",
       "    <tr>\n",
       "      <th>25%</th>\n",
       "      <td>4.750000</td>\n",
       "      <td>67.000000</td>\n",
       "      <td>62.250000</td>\n",
       "      <td>67.000000</td>\n",
       "      <td>93.750000</td>\n",
       "      <td>100.000000</td>\n",
       "      <td>22.000000</td>\n",
       "    </tr>\n",
       "    <tr>\n",
       "      <th>50%</th>\n",
       "      <td>8.500000</td>\n",
       "      <td>100.000000</td>\n",
       "      <td>69.000000</td>\n",
       "      <td>100.000000</td>\n",
       "      <td>98.750000</td>\n",
       "      <td>100.000000</td>\n",
       "      <td>50.000000</td>\n",
       "    </tr>\n",
       "    <tr>\n",
       "      <th>75%</th>\n",
       "      <td>12.250000</td>\n",
       "      <td>100.000000</td>\n",
       "      <td>78.750000</td>\n",
       "      <td>100.000000</td>\n",
       "      <td>100.000000</td>\n",
       "      <td>100.000000</td>\n",
       "      <td>75.000000</td>\n",
       "    </tr>\n",
       "    <tr>\n",
       "      <th>max</th>\n",
       "      <td>16.000000</td>\n",
       "      <td>100.000000</td>\n",
       "      <td>100.000000</td>\n",
       "      <td>100.000000</td>\n",
       "      <td>100.000000</td>\n",
       "      <td>100.000000</td>\n",
       "      <td>100.000000</td>\n",
       "    </tr>\n",
       "  </tbody>\n",
       "</table>\n",
       "</div>"
      ],
      "text/plain": [
       "          Numero      Tarea1     Examen1      Tarea2     Examen2      Tarea3  \\\n",
       "count  16.000000   16.000000   16.000000   16.000000   16.000000   16.000000   \n",
       "mean    8.500000   83.375000   68.375000   87.562500   92.656250   90.625000   \n",
       "std     4.760952   24.374509   20.710303   20.607341   13.212013   20.155644   \n",
       "min     1.000000   33.000000   23.000000   33.000000   60.000000   50.000000   \n",
       "25%     4.750000   67.000000   62.250000   67.000000   93.750000  100.000000   \n",
       "50%     8.500000  100.000000   69.000000  100.000000   98.750000  100.000000   \n",
       "75%    12.250000  100.000000   78.750000  100.000000  100.000000  100.000000   \n",
       "max    16.000000  100.000000  100.000000  100.000000  100.000000  100.000000   \n",
       "\n",
       "          Examen3  \n",
       "count   16.000000  \n",
       "mean    47.000000  \n",
       "std     33.348663  \n",
       "min      0.000000  \n",
       "25%     22.000000  \n",
       "50%     50.000000  \n",
       "75%     75.000000  \n",
       "max    100.000000  "
      ]
     },
     "execution_count": 6,
     "metadata": {},
     "output_type": "execute_result"
    }
   ],
   "source": [
    "df.describe()"
   ]
  },
  {
   "cell_type": "markdown",
   "metadata": {
    "slideshow": {
     "slide_type": "slide"
    }
   },
   "source": [
    "Los valores que esta tabla automática contiene se pueden conocer con métodos específicos:"
   ]
  },
  {
   "cell_type": "markdown",
   "metadata": {
    "slideshow": {
     "slide_type": "slide"
    }
   },
   "source": [
    "El mínimo se puede obtener con el método `min()`."
   ]
  },
  {
   "cell_type": "code",
   "execution_count": 7,
   "metadata": {
    "slideshow": {
     "slide_type": "fragment"
    }
   },
   "outputs": [
    {
     "data": {
      "text/plain": [
       "60.0"
      ]
     },
     "execution_count": 7,
     "metadata": {},
     "output_type": "execute_result"
    }
   ],
   "source": [
    "df.Examen2.min()"
   ]
  },
  {
   "cell_type": "markdown",
   "metadata": {
    "slideshow": {
     "slide_type": "slide"
    }
   },
   "source": [
    "El máximo se puede obtener con el método `max()`."
   ]
  },
  {
   "cell_type": "code",
   "execution_count": 8,
   "metadata": {
    "slideshow": {
     "slide_type": "fragment"
    }
   },
   "outputs": [
    {
     "data": {
      "text/plain": [
       "100.0"
      ]
     },
     "execution_count": 8,
     "metadata": {},
     "output_type": "execute_result"
    }
   ],
   "source": [
    "df.Examen2.max()"
   ]
  },
  {
   "cell_type": "markdown",
   "metadata": {
    "slideshow": {
     "slide_type": "slide"
    }
   },
   "source": [
    "El promedio de una columna se obtiene con `mean()`."
   ]
  },
  {
   "cell_type": "code",
   "execution_count": 9,
   "metadata": {
    "slideshow": {
     "slide_type": "fragment"
    }
   },
   "outputs": [
    {
     "data": {
      "text/plain": [
       "92.65625"
      ]
     },
     "execution_count": 9,
     "metadata": {},
     "output_type": "execute_result"
    }
   ],
   "source": [
    "df.Examen2.mean()"
   ]
  },
  {
   "cell_type": "markdown",
   "metadata": {
    "slideshow": {
     "slide_type": "slide"
    }
   },
   "source": [
    "La varianza usando `var()`."
   ]
  },
  {
   "cell_type": "code",
   "execution_count": 10,
   "metadata": {
    "slideshow": {
     "slide_type": "fragment"
    }
   },
   "outputs": [
    {
     "data": {
      "text/plain": [
       "174.55729166666666"
      ]
     },
     "execution_count": 10,
     "metadata": {},
     "output_type": "execute_result"
    }
   ],
   "source": [
    "df.Examen2.var()"
   ]
  },
  {
   "cell_type": "markdown",
   "metadata": {
    "slideshow": {
     "slide_type": "slide"
    }
   },
   "source": [
    "La desviación estándar con `std()`."
   ]
  },
  {
   "cell_type": "code",
   "execution_count": 11,
   "metadata": {
    "slideshow": {
     "slide_type": "fragment"
    }
   },
   "outputs": [
    {
     "data": {
      "text/plain": [
       "13.212013157224249"
      ]
     },
     "execution_count": 11,
     "metadata": {},
     "output_type": "execute_result"
    }
   ],
   "source": [
    "df.Examen2.std()"
   ]
  },
  {
   "cell_type": "markdown",
   "metadata": {
    "slideshow": {
     "slide_type": "slide"
    }
   },
   "source": [
    "Para la suma total de la columna se puede usar `sum()`."
   ]
  },
  {
   "cell_type": "code",
   "execution_count": 12,
   "metadata": {
    "slideshow": {
     "slide_type": "fragment"
    }
   },
   "outputs": [
    {
     "data": {
      "text/plain": [
       "1482.5"
      ]
     },
     "execution_count": 12,
     "metadata": {},
     "output_type": "execute_result"
    }
   ],
   "source": [
    "df.Examen2.sum()"
   ]
  },
  {
   "cell_type": "markdown",
   "metadata": {
    "slideshow": {
     "slide_type": "slide"
    }
   },
   "source": [
    "Se puede contar el número de valores (excluyendo `null` y `NA`) usando `count()`."
   ]
  },
  {
   "cell_type": "code",
   "execution_count": 13,
   "metadata": {
    "slideshow": {
     "slide_type": "fragment"
    }
   },
   "outputs": [
    {
     "data": {
      "text/plain": [
       "16"
      ]
     },
     "execution_count": 13,
     "metadata": {},
     "output_type": "execute_result"
    }
   ],
   "source": [
    "df.Examen2.count()\n"
   ]
  },
  {
   "cell_type": "markdown",
   "metadata": {
    "slideshow": {
     "slide_type": "slide"
    }
   },
   "source": [
    "La mediana se puede calcular con `median()`"
   ]
  },
  {
   "cell_type": "code",
   "execution_count": 14,
   "metadata": {
    "slideshow": {
     "slide_type": "fragment"
    }
   },
   "outputs": [
    {
     "data": {
      "text/plain": [
       "98.75"
      ]
     },
     "execution_count": 14,
     "metadata": {},
     "output_type": "execute_result"
    }
   ],
   "source": [
    "df.Examen2.median()"
   ]
  },
  {
   "cell_type": "markdown",
   "metadata": {
    "slideshow": {
     "slide_type": "slide"
    }
   },
   "source": [
    "Los cuantiles se pueden obtener con `quantile()`, indicando con una lista los valores de inicio y final de los intervalos (de 0 a 1). "
   ]
  },
  {
   "cell_type": "code",
   "execution_count": 15,
   "metadata": {
    "slideshow": {
     "slide_type": "fragment"
    }
   },
   "outputs": [
    {
     "data": {
      "text/plain": [
       "0.0     60.00\n",
       "0.1     75.00\n",
       "0.2     90.00\n",
       "0.3     95.00\n",
       "0.4     95.00\n",
       "0.5     98.75\n",
       "0.6    100.00\n",
       "0.7    100.00\n",
       "0.8    100.00\n",
       "0.9    100.00\n",
       "1.0    100.00\n",
       "Name: Examen2, dtype: float64"
      ]
     },
     "execution_count": 15,
     "metadata": {},
     "output_type": "execute_result"
    }
   ],
   "source": [
    "df.Examen2.quantile([0.0,0.1,0.2,0.3,0.4,0.5,0.6,0.7,0.8,0.9,1.0]) # deciles"
   ]
  },
  {
   "cell_type": "markdown",
   "metadata": {
    "slideshow": {
     "slide_type": "slide"
    }
   },
   "source": [
    "Para hacer una gráfica con los valores de una columna se puede utilizar simplemente `plot()`. "
   ]
  },
  {
   "cell_type": "code",
   "execution_count": 16,
   "metadata": {
    "slideshow": {
     "slide_type": "fragment"
    }
   },
   "outputs": [
    {
     "data": {
      "text/plain": [
       "<matplotlib.axes._subplots.AxesSubplot at 0x7ff47204e2b0>"
      ]
     },
     "execution_count": 16,
     "metadata": {},
     "output_type": "execute_result"
    },
    {
     "data": {
      "image/png": "[encoded data removed]",
      "text/plain": [
       "<Figure size 432x288 with 1 Axes>"
      ]
     },
     "metadata": {
      "needs_background": "light"
     },
     "output_type": "display_data"
    }
   ],
   "source": [
    "df.set_index('Numero').Examen1.plot()"
   ]
  },
  {
   "cell_type": "code",
   "execution_count": 17,
   "metadata": {
    "slideshow": {
     "slide_type": "slide"
    }
   },
   "outputs": [
    {
     "data": {
      "text/plain": [
       "<matplotlib.axes._subplots.AxesSubplot at 0x7ff471fd0a90>"
      ]
     },
     "execution_count": 17,
     "metadata": {},
     "output_type": "execute_result"
    },
    {
     "data": {
      "image/png": "[encoded data removed]",
      "text/plain": [
       "<Figure size 432x288 with 1 Axes>"
      ]
     },
     "metadata": {
      "needs_background": "light"
     },
     "output_type": "display_data"
    }
   ],
   "source": [
    "df.set_index('Numero')[['Examen1','Examen2','Examen3']].plot()"
   ]
  },
  {
   "cell_type": "markdown",
   "metadata": {
    "slideshow": {
     "slide_type": "slide"
    }
   },
   "source": [
    "### Datos no existentes\n",
    "\n",
    "Un dato faltante puede modificar nuestras conclusiones por lo que es bueno detectarlo y, si fuera necesario, modificar el _dataframe_ para poder trabajar con los datos restantes. El objeto _dataframe_ tiene dos métodos especializados para trabajar con datos faltantes:\n",
    "\n",
    "    * `df.dropna()` borrará las lineas en las que falte un dato.\n",
    "    * `df.fillna(<value>)` colocará <value> para los valores que no existan."
   ]
  },
  {
   "cell_type": "markdown",
   "metadata": {
    "slideshow": {
     "slide_type": "slide"
    }
   },
   "source": [
    "### Creando columnas\n",
    "\n",
    "Para crear una columna basta asignarle un valor a un _nombre_ o _identificador_ nuevo del _dataframe_. Para esto es necesario siempre utilizar la nomenclatura con `['<columna>']`"
   ]
  },
  {
   "cell_type": "code",
   "execution_count": 18,
   "metadata": {
    "slideshow": {
     "slide_type": "fragment"
    }
   },
   "outputs": [
    {
     "data": {
      "text/html": [
       "<div>\n",
       "<style scoped>\n",
       "    .dataframe tbody tr th:only-of-type {\n",
       "        vertical-align: middle;\n",
       "    }\n",
       "\n",
       "    .dataframe tbody tr th {\n",
       "        vertical-align: top;\n",
       "    }\n",
       "\n",
       "    .dataframe thead th {\n",
       "        text-align: right;\n",
       "    }\n",
       "</style>\n",
       "<table border=\"1\" class=\"dataframe\">\n",
       "  <thead>\n",
       "    <tr style=\"text-align: right;\">\n",
       "      <th></th>\n",
       "      <th>Numero</th>\n",
       "      <th>Nombre</th>\n",
       "      <th>Apellido</th>\n",
       "      <th>Plan</th>\n",
       "      <th>Tarea1</th>\n",
       "      <th>Examen1</th>\n",
       "      <th>Tarea2</th>\n",
       "      <th>Examen2</th>\n",
       "      <th>Tarea3</th>\n",
       "      <th>Examen3</th>\n",
       "      <th>Tareas</th>\n",
       "    </tr>\n",
       "    <tr>\n",
       "      <th>Expediente</th>\n",
       "      <th></th>\n",
       "      <th></th>\n",
       "      <th></th>\n",
       "      <th></th>\n",
       "      <th></th>\n",
       "      <th></th>\n",
       "      <th></th>\n",
       "      <th></th>\n",
       "      <th></th>\n",
       "      <th></th>\n",
       "      <th></th>\n",
       "    </tr>\n",
       "  </thead>\n",
       "  <tbody>\n",
       "    <tr>\n",
       "      <th>297613</th>\n",
       "      <td>1</td>\n",
       "      <td>Margarita</td>\n",
       "      <td>Duarte</td>\n",
       "      <td>LIM2014</td>\n",
       "      <td>100.0</td>\n",
       "      <td>100.0</td>\n",
       "      <td>100.0</td>\n",
       "      <td>100.0</td>\n",
       "      <td>100.0</td>\n",
       "      <td>75.0</td>\n",
       "      <td>100.000000</td>\n",
       "    </tr>\n",
       "    <tr>\n",
       "      <th>261301</th>\n",
       "      <td>2</td>\n",
       "      <td>Manolo</td>\n",
       "      <td>Garcia</td>\n",
       "      <td>LIM2014</td>\n",
       "      <td>100.0</td>\n",
       "      <td>27.0</td>\n",
       "      <td>100.0</td>\n",
       "      <td>60.0</td>\n",
       "      <td>50.0</td>\n",
       "      <td>13.0</td>\n",
       "      <td>83.333333</td>\n",
       "    </tr>\n",
       "    <tr>\n",
       "      <th>262979</th>\n",
       "      <td>3</td>\n",
       "      <td>Tomas</td>\n",
       "      <td>Gomez</td>\n",
       "      <td>LIM2014</td>\n",
       "      <td>67.0</td>\n",
       "      <td>57.0</td>\n",
       "      <td>100.0</td>\n",
       "      <td>100.0</td>\n",
       "      <td>100.0</td>\n",
       "      <td>50.0</td>\n",
       "      <td>89.000000</td>\n",
       "    </tr>\n",
       "    <tr>\n",
       "      <th>223867</th>\n",
       "      <td>4</td>\n",
       "      <td>Susana</td>\n",
       "      <td>Gonzalez</td>\n",
       "      <td>LIM2014</td>\n",
       "      <td>100.0</td>\n",
       "      <td>60.0</td>\n",
       "      <td>33.0</td>\n",
       "      <td>100.0</td>\n",
       "      <td>100.0</td>\n",
       "      <td>38.0</td>\n",
       "      <td>77.666667</td>\n",
       "    </tr>\n",
       "    <tr>\n",
       "      <th>200389</th>\n",
       "      <td>5</td>\n",
       "      <td>Itzel</td>\n",
       "      <td>Hernandez</td>\n",
       "      <td>LIM2014</td>\n",
       "      <td>100.0</td>\n",
       "      <td>75.0</td>\n",
       "      <td>67.0</td>\n",
       "      <td>100.0</td>\n",
       "      <td>100.0</td>\n",
       "      <td>50.0</td>\n",
       "      <td>89.000000</td>\n",
       "    </tr>\n",
       "  </tbody>\n",
       "</table>\n",
       "</div>"
      ],
      "text/plain": [
       "            Numero     Nombre   Apellido     Plan  Tarea1  Examen1  Tarea2  \\\n",
       "Expediente                                                                   \n",
       "297613           1  Margarita     Duarte  LIM2014   100.0    100.0   100.0   \n",
       "261301           2     Manolo     Garcia  LIM2014   100.0     27.0   100.0   \n",
       "262979           3      Tomas      Gomez  LIM2014    67.0     57.0   100.0   \n",
       "223867           4     Susana   Gonzalez  LIM2014   100.0     60.0    33.0   \n",
       "200389           5      Itzel  Hernandez  LIM2014   100.0     75.0    67.0   \n",
       "\n",
       "            Examen2  Tarea3  Examen3      Tareas  \n",
       "Expediente                                        \n",
       "297613        100.0   100.0     75.0  100.000000  \n",
       "261301         60.0    50.0     13.0   83.333333  \n",
       "262979        100.0   100.0     50.0   89.000000  \n",
       "223867        100.0   100.0     38.0   77.666667  \n",
       "200389        100.0   100.0     50.0   89.000000  "
      ]
     },
     "execution_count": 18,
     "metadata": {},
     "output_type": "execute_result"
    }
   ],
   "source": [
    "df['Tareas'] = (df.Tarea1 + df.Tarea2 + df.Tarea3) / 3\n",
    "df.head()"
   ]
  },
  {
   "cell_type": "markdown",
   "metadata": {
    "slideshow": {
     "slide_type": "slide"
    }
   },
   "source": [
    "Para columnas numéricas se pueden usar los métodos anteriormente presentadas si añadimos `axis=1` en la llamada."
   ]
  },
  {
   "cell_type": "code",
   "execution_count": 19,
   "metadata": {
    "slideshow": {
     "slide_type": "fragment"
    }
   },
   "outputs": [
    {
     "data": {
      "text/html": [
       "<div>\n",
       "<style scoped>\n",
       "    .dataframe tbody tr th:only-of-type {\n",
       "        vertical-align: middle;\n",
       "    }\n",
       "\n",
       "    .dataframe tbody tr th {\n",
       "        vertical-align: top;\n",
       "    }\n",
       "\n",
       "    .dataframe thead th {\n",
       "        text-align: right;\n",
       "    }\n",
       "</style>\n",
       "<table border=\"1\" class=\"dataframe\">\n",
       "  <thead>\n",
       "    <tr style=\"text-align: right;\">\n",
       "      <th></th>\n",
       "      <th>Numero</th>\n",
       "      <th>Nombre</th>\n",
       "      <th>Apellido</th>\n",
       "      <th>Plan</th>\n",
       "      <th>Tarea1</th>\n",
       "      <th>Examen1</th>\n",
       "      <th>Tarea2</th>\n",
       "      <th>Examen2</th>\n",
       "      <th>Tarea3</th>\n",
       "      <th>Examen3</th>\n",
       "      <th>Tareas</th>\n",
       "      <th>Examenes</th>\n",
       "    </tr>\n",
       "    <tr>\n",
       "      <th>Expediente</th>\n",
       "      <th></th>\n",
       "      <th></th>\n",
       "      <th></th>\n",
       "      <th></th>\n",
       "      <th></th>\n",
       "      <th></th>\n",
       "      <th></th>\n",
       "      <th></th>\n",
       "      <th></th>\n",
       "      <th></th>\n",
       "      <th></th>\n",
       "      <th></th>\n",
       "    </tr>\n",
       "  </thead>\n",
       "  <tbody>\n",
       "    <tr>\n",
       "      <th>297613</th>\n",
       "      <td>1</td>\n",
       "      <td>Margarita</td>\n",
       "      <td>Duarte</td>\n",
       "      <td>LIM2014</td>\n",
       "      <td>100.0</td>\n",
       "      <td>100.0</td>\n",
       "      <td>100.0</td>\n",
       "      <td>100.0</td>\n",
       "      <td>100.0</td>\n",
       "      <td>75.0</td>\n",
       "      <td>100.000000</td>\n",
       "      <td>91.666667</td>\n",
       "    </tr>\n",
       "    <tr>\n",
       "      <th>261301</th>\n",
       "      <td>2</td>\n",
       "      <td>Manolo</td>\n",
       "      <td>Garcia</td>\n",
       "      <td>LIM2014</td>\n",
       "      <td>100.0</td>\n",
       "      <td>27.0</td>\n",
       "      <td>100.0</td>\n",
       "      <td>60.0</td>\n",
       "      <td>50.0</td>\n",
       "      <td>13.0</td>\n",
       "      <td>83.333333</td>\n",
       "      <td>33.333333</td>\n",
       "    </tr>\n",
       "    <tr>\n",
       "      <th>262979</th>\n",
       "      <td>3</td>\n",
       "      <td>Tomas</td>\n",
       "      <td>Gomez</td>\n",
       "      <td>LIM2014</td>\n",
       "      <td>67.0</td>\n",
       "      <td>57.0</td>\n",
       "      <td>100.0</td>\n",
       "      <td>100.0</td>\n",
       "      <td>100.0</td>\n",
       "      <td>50.0</td>\n",
       "      <td>89.000000</td>\n",
       "      <td>69.000000</td>\n",
       "    </tr>\n",
       "    <tr>\n",
       "      <th>223867</th>\n",
       "      <td>4</td>\n",
       "      <td>Susana</td>\n",
       "      <td>Gonzalez</td>\n",
       "      <td>LIM2014</td>\n",
       "      <td>100.0</td>\n",
       "      <td>60.0</td>\n",
       "      <td>33.0</td>\n",
       "      <td>100.0</td>\n",
       "      <td>100.0</td>\n",
       "      <td>38.0</td>\n",
       "      <td>77.666667</td>\n",
       "      <td>66.000000</td>\n",
       "    </tr>\n",
       "    <tr>\n",
       "      <th>200389</th>\n",
       "      <td>5</td>\n",
       "      <td>Itzel</td>\n",
       "      <td>Hernandez</td>\n",
       "      <td>LIM2014</td>\n",
       "      <td>100.0</td>\n",
       "      <td>75.0</td>\n",
       "      <td>67.0</td>\n",
       "      <td>100.0</td>\n",
       "      <td>100.0</td>\n",
       "      <td>50.0</td>\n",
       "      <td>89.000000</td>\n",
       "      <td>75.000000</td>\n",
       "    </tr>\n",
       "  </tbody>\n",
       "</table>\n",
       "</div>"
      ],
      "text/plain": [
       "            Numero     Nombre   Apellido     Plan  Tarea1  Examen1  Tarea2  \\\n",
       "Expediente                                                                   \n",
       "297613           1  Margarita     Duarte  LIM2014   100.0    100.0   100.0   \n",
       "261301           2     Manolo     Garcia  LIM2014   100.0     27.0   100.0   \n",
       "262979           3      Tomas      Gomez  LIM2014    67.0     57.0   100.0   \n",
       "223867           4     Susana   Gonzalez  LIM2014   100.0     60.0    33.0   \n",
       "200389           5      Itzel  Hernandez  LIM2014   100.0     75.0    67.0   \n",
       "\n",
       "            Examen2  Tarea3  Examen3      Tareas   Examenes  \n",
       "Expediente                                                   \n",
       "297613        100.0   100.0     75.0  100.000000  91.666667  \n",
       "261301         60.0    50.0     13.0   83.333333  33.333333  \n",
       "262979        100.0   100.0     50.0   89.000000  69.000000  \n",
       "223867        100.0   100.0     38.0   77.666667  66.000000  \n",
       "200389        100.0   100.0     50.0   89.000000  75.000000  "
      ]
     },
     "execution_count": 19,
     "metadata": {},
     "output_type": "execute_result"
    }
   ],
   "source": [
    "df['Examenes'] = df[['Examen1','Examen2','Examen3']].mean(axis=1)\n",
    "df.head()"
   ]
  },
  {
   "cell_type": "code",
   "execution_count": 20,
   "metadata": {
    "slideshow": {
     "slide_type": "slide"
    }
   },
   "outputs": [
    {
     "data": {
      "text/html": [
       "<div>\n",
       "<style scoped>\n",
       "    .dataframe tbody tr th:only-of-type {\n",
       "        vertical-align: middle;\n",
       "    }\n",
       "\n",
       "    .dataframe tbody tr th {\n",
       "        vertical-align: top;\n",
       "    }\n",
       "\n",
       "    .dataframe thead th {\n",
       "        text-align: right;\n",
       "    }\n",
       "</style>\n",
       "<table border=\"1\" class=\"dataframe\">\n",
       "  <thead>\n",
       "    <tr style=\"text-align: right;\">\n",
       "      <th></th>\n",
       "      <th>Numero</th>\n",
       "      <th>Nombre</th>\n",
       "      <th>Apellido</th>\n",
       "      <th>Plan</th>\n",
       "      <th>Tarea1</th>\n",
       "      <th>Examen1</th>\n",
       "      <th>Tarea2</th>\n",
       "      <th>Examen2</th>\n",
       "      <th>Tarea3</th>\n",
       "      <th>Examen3</th>\n",
       "      <th>Tareas</th>\n",
       "      <th>Examenes</th>\n",
       "      <th>Final</th>\n",
       "    </tr>\n",
       "    <tr>\n",
       "      <th>Expediente</th>\n",
       "      <th></th>\n",
       "      <th></th>\n",
       "      <th></th>\n",
       "      <th></th>\n",
       "      <th></th>\n",
       "      <th></th>\n",
       "      <th></th>\n",
       "      <th></th>\n",
       "      <th></th>\n",
       "      <th></th>\n",
       "      <th></th>\n",
       "      <th></th>\n",
       "      <th></th>\n",
       "    </tr>\n",
       "  </thead>\n",
       "  <tbody>\n",
       "    <tr>\n",
       "      <th>297613</th>\n",
       "      <td>1</td>\n",
       "      <td>Margarita</td>\n",
       "      <td>Duarte</td>\n",
       "      <td>LIM2014</td>\n",
       "      <td>100.0</td>\n",
       "      <td>100.0</td>\n",
       "      <td>100.0</td>\n",
       "      <td>100.0</td>\n",
       "      <td>100.0</td>\n",
       "      <td>75.0</td>\n",
       "      <td>100.000000</td>\n",
       "      <td>91.666667</td>\n",
       "      <td>94.166667</td>\n",
       "    </tr>\n",
       "    <tr>\n",
       "      <th>261301</th>\n",
       "      <td>2</td>\n",
       "      <td>Manolo</td>\n",
       "      <td>Garcia</td>\n",
       "      <td>LIM2014</td>\n",
       "      <td>100.0</td>\n",
       "      <td>27.0</td>\n",
       "      <td>100.0</td>\n",
       "      <td>60.0</td>\n",
       "      <td>50.0</td>\n",
       "      <td>13.0</td>\n",
       "      <td>83.333333</td>\n",
       "      <td>33.333333</td>\n",
       "      <td>48.333333</td>\n",
       "    </tr>\n",
       "    <tr>\n",
       "      <th>262979</th>\n",
       "      <td>3</td>\n",
       "      <td>Tomas</td>\n",
       "      <td>Gomez</td>\n",
       "      <td>LIM2014</td>\n",
       "      <td>67.0</td>\n",
       "      <td>57.0</td>\n",
       "      <td>100.0</td>\n",
       "      <td>100.0</td>\n",
       "      <td>100.0</td>\n",
       "      <td>50.0</td>\n",
       "      <td>89.000000</td>\n",
       "      <td>69.000000</td>\n",
       "      <td>75.000000</td>\n",
       "    </tr>\n",
       "    <tr>\n",
       "      <th>223867</th>\n",
       "      <td>4</td>\n",
       "      <td>Susana</td>\n",
       "      <td>Gonzalez</td>\n",
       "      <td>LIM2014</td>\n",
       "      <td>100.0</td>\n",
       "      <td>60.0</td>\n",
       "      <td>33.0</td>\n",
       "      <td>100.0</td>\n",
       "      <td>100.0</td>\n",
       "      <td>38.0</td>\n",
       "      <td>77.666667</td>\n",
       "      <td>66.000000</td>\n",
       "      <td>69.500000</td>\n",
       "    </tr>\n",
       "    <tr>\n",
       "      <th>200389</th>\n",
       "      <td>5</td>\n",
       "      <td>Itzel</td>\n",
       "      <td>Hernandez</td>\n",
       "      <td>LIM2014</td>\n",
       "      <td>100.0</td>\n",
       "      <td>75.0</td>\n",
       "      <td>67.0</td>\n",
       "      <td>100.0</td>\n",
       "      <td>100.0</td>\n",
       "      <td>50.0</td>\n",
       "      <td>89.000000</td>\n",
       "      <td>75.000000</td>\n",
       "      <td>79.200000</td>\n",
       "    </tr>\n",
       "  </tbody>\n",
       "</table>\n",
       "</div>"
      ],
      "text/plain": [
       "            Numero     Nombre   Apellido     Plan  Tarea1  Examen1  Tarea2  \\\n",
       "Expediente                                                                   \n",
       "297613           1  Margarita     Duarte  LIM2014   100.0    100.0   100.0   \n",
       "261301           2     Manolo     Garcia  LIM2014   100.0     27.0   100.0   \n",
       "262979           3      Tomas      Gomez  LIM2014    67.0     57.0   100.0   \n",
       "223867           4     Susana   Gonzalez  LIM2014   100.0     60.0    33.0   \n",
       "200389           5      Itzel  Hernandez  LIM2014   100.0     75.0    67.0   \n",
       "\n",
       "            Examen2  Tarea3  Examen3      Tareas   Examenes      Final  \n",
       "Expediente                                                              \n",
       "297613        100.0   100.0     75.0  100.000000  91.666667  94.166667  \n",
       "261301         60.0    50.0     13.0   83.333333  33.333333  48.333333  \n",
       "262979        100.0   100.0     50.0   89.000000  69.000000  75.000000  \n",
       "223867        100.0   100.0     38.0   77.666667  66.000000  69.500000  \n",
       "200389        100.0   100.0     50.0   89.000000  75.000000  79.200000  "
      ]
     },
     "execution_count": 20,
     "metadata": {},
     "output_type": "execute_result"
    }
   ],
   "source": [
    "df['Final'] = 0.7 * df.Examenes + 0.3 * df.Tareas\n",
    "df.head()"
   ]
  },
  {
   "cell_type": "markdown",
   "metadata": {
    "slideshow": {
     "slide_type": "slide"
    }
   },
   "source": [
    "Claro, además siempre es posible asignar con un ciclo `for`, aunque normalmente será más tardado. Para esto utilizamos el método `iterrow()`:"
   ]
  },
  {
   "cell_type": "code",
   "execution_count": 21,
   "metadata": {
    "slideshow": {
     "slide_type": "fragment"
    }
   },
   "outputs": [],
   "source": [
    "df['Anotacion'] = ''\n",
    "\n",
    "for i, row in df.iterrows():\n",
    "    if row.Final > 90.0:\n",
    "        df.loc[i,'Anotacion'] = 'Muy buena nota.'"
   ]
  },
  {
   "cell_type": "code",
   "execution_count": 22,
   "metadata": {
    "slideshow": {
     "slide_type": "slide"
    }
   },
   "outputs": [
    {
     "data": {
      "text/html": [
       "<div>\n",
       "<style scoped>\n",
       "    .dataframe tbody tr th:only-of-type {\n",
       "        vertical-align: middle;\n",
       "    }\n",
       "\n",
       "    .dataframe tbody tr th {\n",
       "        vertical-align: top;\n",
       "    }\n",
       "\n",
       "    .dataframe thead th {\n",
       "        text-align: right;\n",
       "    }\n",
       "</style>\n",
       "<table border=\"1\" class=\"dataframe\">\n",
       "  <thead>\n",
       "    <tr style=\"text-align: right;\">\n",
       "      <th></th>\n",
       "      <th>Numero</th>\n",
       "      <th>Nombre</th>\n",
       "      <th>Apellido</th>\n",
       "      <th>Plan</th>\n",
       "      <th>Tarea1</th>\n",
       "      <th>Examen1</th>\n",
       "      <th>Tarea2</th>\n",
       "      <th>Examen2</th>\n",
       "      <th>Tarea3</th>\n",
       "      <th>Examen3</th>\n",
       "      <th>Tareas</th>\n",
       "      <th>Examenes</th>\n",
       "      <th>Final</th>\n",
       "      <th>Anotacion</th>\n",
       "    </tr>\n",
       "    <tr>\n",
       "      <th>Expediente</th>\n",
       "      <th></th>\n",
       "      <th></th>\n",
       "      <th></th>\n",
       "      <th></th>\n",
       "      <th></th>\n",
       "      <th></th>\n",
       "      <th></th>\n",
       "      <th></th>\n",
       "      <th></th>\n",
       "      <th></th>\n",
       "      <th></th>\n",
       "      <th></th>\n",
       "      <th></th>\n",
       "      <th></th>\n",
       "    </tr>\n",
       "  </thead>\n",
       "  <tbody>\n",
       "    <tr>\n",
       "      <th>297613</th>\n",
       "      <td>1</td>\n",
       "      <td>Margarita</td>\n",
       "      <td>Duarte</td>\n",
       "      <td>LIM2014</td>\n",
       "      <td>100.0</td>\n",
       "      <td>100.0</td>\n",
       "      <td>100.0</td>\n",
       "      <td>100.0</td>\n",
       "      <td>100.0</td>\n",
       "      <td>75.0</td>\n",
       "      <td>100.000000</td>\n",
       "      <td>91.666667</td>\n",
       "      <td>94.166667</td>\n",
       "      <td>Muy buena nota.</td>\n",
       "    </tr>\n",
       "    <tr>\n",
       "      <th>261301</th>\n",
       "      <td>2</td>\n",
       "      <td>Manolo</td>\n",
       "      <td>Garcia</td>\n",
       "      <td>LIM2014</td>\n",
       "      <td>100.0</td>\n",
       "      <td>27.0</td>\n",
       "      <td>100.0</td>\n",
       "      <td>60.0</td>\n",
       "      <td>50.0</td>\n",
       "      <td>13.0</td>\n",
       "      <td>83.333333</td>\n",
       "      <td>33.333333</td>\n",
       "      <td>48.333333</td>\n",
       "      <td></td>\n",
       "    </tr>\n",
       "    <tr>\n",
       "      <th>262979</th>\n",
       "      <td>3</td>\n",
       "      <td>Tomas</td>\n",
       "      <td>Gomez</td>\n",
       "      <td>LIM2014</td>\n",
       "      <td>67.0</td>\n",
       "      <td>57.0</td>\n",
       "      <td>100.0</td>\n",
       "      <td>100.0</td>\n",
       "      <td>100.0</td>\n",
       "      <td>50.0</td>\n",
       "      <td>89.000000</td>\n",
       "      <td>69.000000</td>\n",
       "      <td>75.000000</td>\n",
       "      <td></td>\n",
       "    </tr>\n",
       "    <tr>\n",
       "      <th>223867</th>\n",
       "      <td>4</td>\n",
       "      <td>Susana</td>\n",
       "      <td>Gonzalez</td>\n",
       "      <td>LIM2014</td>\n",
       "      <td>100.0</td>\n",
       "      <td>60.0</td>\n",
       "      <td>33.0</td>\n",
       "      <td>100.0</td>\n",
       "      <td>100.0</td>\n",
       "      <td>38.0</td>\n",
       "      <td>77.666667</td>\n",
       "      <td>66.000000</td>\n",
       "      <td>69.500000</td>\n",
       "      <td></td>\n",
       "    </tr>\n",
       "    <tr>\n",
       "      <th>200389</th>\n",
       "      <td>5</td>\n",
       "      <td>Itzel</td>\n",
       "      <td>Hernandez</td>\n",
       "      <td>LIM2014</td>\n",
       "      <td>100.0</td>\n",
       "      <td>75.0</td>\n",
       "      <td>67.0</td>\n",
       "      <td>100.0</td>\n",
       "      <td>100.0</td>\n",
       "      <td>50.0</td>\n",
       "      <td>89.000000</td>\n",
       "      <td>75.000000</td>\n",
       "      <td>79.200000</td>\n",
       "      <td></td>\n",
       "    </tr>\n",
       "  </tbody>\n",
       "</table>\n",
       "</div>"
      ],
      "text/plain": [
       "            Numero     Nombre   Apellido     Plan  Tarea1  Examen1  Tarea2  \\\n",
       "Expediente                                                                   \n",
       "297613           1  Margarita     Duarte  LIM2014   100.0    100.0   100.0   \n",
       "261301           2     Manolo     Garcia  LIM2014   100.0     27.0   100.0   \n",
       "262979           3      Tomas      Gomez  LIM2014    67.0     57.0   100.0   \n",
       "223867           4     Susana   Gonzalez  LIM2014   100.0     60.0    33.0   \n",
       "200389           5      Itzel  Hernandez  LIM2014   100.0     75.0    67.0   \n",
       "\n",
       "            Examen2  Tarea3  Examen3      Tareas   Examenes      Final  \\\n",
       "Expediente                                                               \n",
       "297613        100.0   100.0     75.0  100.000000  91.666667  94.166667   \n",
       "261301         60.0    50.0     13.0   83.333333  33.333333  48.333333   \n",
       "262979        100.0   100.0     50.0   89.000000  69.000000  75.000000   \n",
       "223867        100.0   100.0     38.0   77.666667  66.000000  69.500000   \n",
       "200389        100.0   100.0     50.0   89.000000  75.000000  79.200000   \n",
       "\n",
       "                  Anotacion  \n",
       "Expediente                   \n",
       "297613      Muy buena nota.  \n",
       "261301                       \n",
       "262979                       \n",
       "223867                       \n",
       "200389                       "
      ]
     },
     "execution_count": 22,
     "metadata": {},
     "output_type": "execute_result"
    }
   ],
   "source": [
    "df.head()"
   ]
  }
 ],
 "metadata": {
  "celltoolbar": "Slideshow",
  "kernelspec": {
   "display_name": "Python 3 (ipykernel)",
   "language": "python",
   "name": "python3"
  },
  "language_info": {
   "codemirror_mode": {
    "name": "ipython",
    "version": 3
   },
   "file_extension": ".py",
   "mimetype": "text/x-python",
   "name": "python",
   "nbconvert_exporter": "python",
   "pygments_lexer": "ipython3",
   "version": "3.11.3"
  }
 },
 "nbformat": 4,
 "nbformat_minor": 4
}
